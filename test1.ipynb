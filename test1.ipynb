{
 "cells": [
  {
   "cell_type": "markdown",
   "metadata": {},
   "source": [
    "# Step by step"
   ]
  },
  {
   "cell_type": "code",
   "execution_count": 371,
   "metadata": {},
   "outputs": [],
   "source": [
    "from pyspark import SparkContext, SparkConf\n",
    "import numpy as np\n",
    "import time\n",
    "\n",
    "\n",
    "sc = SparkContext.getOrCreate()\n",
    "tr = sc.textFile(\"datasets/small.txt\").zipWithUniqueId()\n",
    "k = sc.broadcast(5)"
   ]
  },
  {
   "cell_type": "code",
   "execution_count": 372,
   "metadata": {},
   "outputs": [],
   "source": [
    "cart = tr.cartesian(tr)\n",
    "cart.saveAsTextFile('cart')"
   ]
  },
  {
   "cell_type": "code",
   "execution_count": 373,
   "metadata": {},
   "outputs": [],
   "source": [
    "def distances (dt):\n",
    "    idts = dt[0][1]\n",
    "    test = np.array(dt[0][0].split(\",\"))\n",
    "    ts = test[0:11].astype(np.float)\n",
    "    clts = int(test[11])\n",
    "    idtr = dt[1][1]\n",
    "    train = np.array(dt[1][0].split(\",\"))\n",
    "    tr = train[0:11].astype(np.float)\n",
    "    cltr = int(train[11])\n",
    "    \n",
    "    dist = np.sum((ts-tr)**2)\n",
    "    \n",
    "    if idts == idtr:\n",
    "        dist = float(\"inf\")\n",
    "    \n",
    "    return (idts,(dist,cltr,clts))\n",
    "    "
   ]
  },
  {
   "cell_type": "code",
   "execution_count": 374,
   "metadata": {},
   "outputs": [],
   "source": [
    "def distances (dt):\n",
    "    idts = dt[0][1]\n",
    "    test = dt[0][0].split(\",\")\n",
    "    ts = list(map(float, test[0:7]))\n",
    "    clts = int(test[7])\n",
    "    idtr = dt[1][1]\n",
    "    train = dt[1][0].split(\",\")\n",
    "    tr = list(map(float, train[0:7]))\n",
    "    cltr = int(train[7])\n",
    "    \n",
    "    dist = sum((p-q)**2 for p, q in zip(ts, tr)) ** .5\n",
    "    \n",
    "    if idts == idtr:\n",
    "        dist = float(\"inf\")\n",
    "    \n",
    "    return (idts,(dist,cltr,clts))"
   ]
  },
  {
   "cell_type": "code",
   "execution_count": 375,
   "metadata": {
    "scrolled": true
   },
   "outputs": [
    {
     "name": "stdout",
     "output_type": "stream",
     "text": [
      "The time to run is: 0.848015546798706\n"
     ]
    }
   ],
   "source": [
    "\n",
    "start = time.time()\n",
    "dist = cart.map(distances)\n",
    "dist.saveAsTextFile('dist')\n",
    "end = time.time()\n",
    "print('The time to run is:', end - start)"
   ]
  },
  {
   "cell_type": "code",
   "execution_count": 376,
   "metadata": {},
   "outputs": [],
   "source": [
    "def create_klist(value):\n",
    "    x = [(float('inf'),0)]*k.value\n",
    "    x[0] = value\n",
    "    return x\n",
    "\n",
    "def merge_klist(x, value):\n",
    "    for i in range(len(x)):\n",
    "        if value[0]<x[i][0]:\n",
    "            for j in range(len(x)-1,i,-1):\n",
    "                x[j]=x[j-1]\n",
    "            x[i]=value\n",
    "            break\n",
    "    return x\n",
    "\n",
    "def merge_combiners(x,y):\n",
    "    l = 0\n",
    "    for i in range(len(x)):\n",
    "        if y[l][0]<x[i][0]:\n",
    "            for j in range(len(x)-1,i,-1):\n",
    "                x[j]=x[j-1]\n",
    "            x[i]=y[l]\n",
    "            l+=1\n",
    "    return x"
   ]
  },
  {
   "cell_type": "code",
   "execution_count": 377,
   "metadata": {},
   "outputs": [],
   "source": [
    "def create_klist(value):\n",
    "    x = [(float('inf'),0)]*k.value\n",
    "    x[0] = value\n",
    "    return x\n",
    "\n",
    "def merge_klist(x, value):\n",
    "    for i in range(len(x)):\n",
    "        if value[0]<x[i][0]:\n",
    "            x.insert(i,value)\n",
    "            x.pop()\n",
    "            break\n",
    "    return x\n",
    "\n",
    "def merge_combiners(x,y):\n",
    "    l = 0\n",
    "    for i in range(len(x)):\n",
    "        if y[l][0]<x[i][0]:\n",
    "            x.insert(i,y[l])\n",
    "            x.pop()\n",
    "            l+=1\n",
    "    return x"
   ]
  },
  {
   "cell_type": "code",
   "execution_count": 378,
   "metadata": {},
   "outputs": [],
   "source": [
    "k_vals = dist.combineByKey(create_klist, merge_klist, merge_combiners)\n",
    "k_vals.saveAsTextFile('k_vals')"
   ]
  },
  {
   "cell_type": "code",
   "execution_count": 379,
   "metadata": {},
   "outputs": [],
   "source": [
    "def guess_class(dt):\n",
    "    rclass = dt[1][0][2]\n",
    "    freq = 0\n",
    "    predict = 0\n",
    "    for i in range(len(dt[1])):\n",
    "        tfreq = 1\n",
    "        tpredict = dt[1][i][1]\n",
    "        for j in range(i+1,len(dt[1])):\n",
    "            if tpredict == dt[1][j][1]:\n",
    "                tfreq +=1\n",
    "        if tfreq > freq:\n",
    "            predict = tpredict\n",
    "            freq = tfreq\n",
    "            \n",
    "    \n",
    "    return (rclass,predict)"
   ]
  },
  {
   "cell_type": "code",
   "execution_count": 380,
   "metadata": {},
   "outputs": [],
   "source": [
    "guess_class = k_vals.map(guess_class)\n",
    "guess_class.saveAsTextFile('guess_class')"
   ]
  },
  {
   "cell_type": "code",
   "execution_count": 381,
   "metadata": {},
   "outputs": [],
   "source": [
    "def correct(dt):\n",
    "    if dt[0]==dt[1]:\n",
    "        return 1\n",
    "    else:\n",
    "        return 0"
   ]
  },
  {
   "cell_type": "code",
   "execution_count": 382,
   "metadata": {},
   "outputs": [],
   "source": [
    "correct = guess_class.map(correct)\n",
    "accuracy = correct.mean()\n"
   ]
  },
  {
   "cell_type": "code",
   "execution_count": 383,
   "metadata": {},
   "outputs": [
    {
     "data": {
      "text/plain": [
       "274"
      ]
     },
     "execution_count": 383,
     "metadata": {},
     "output_type": "execute_result"
    }
   ],
   "source": [
    "accum = sc.accumulator(0)\n",
    "correct.foreach(lambda x: accum.add(x))\n",
    "accum.value"
   ]
  },
  {
   "cell_type": "code",
   "execution_count": 384,
   "metadata": {},
   "outputs": [
    {
     "data": {
      "text/plain": [
       "0.8154761904761905"
      ]
     },
     "execution_count": 384,
     "metadata": {},
     "output_type": "execute_result"
    }
   ],
   "source": [
    "accuracy"
   ]
  },
  {
   "cell_type": "markdown",
   "metadata": {},
   "source": [
    "# Measuring time"
   ]
  },
  {
   "cell_type": "code",
   "execution_count": 9,
   "metadata": {},
   "outputs": [
    {
     "name": "stdout",
     "output_type": "stream",
     "text": [
      "The time to run is: 164.25576519966125\n"
     ]
    },
    {
     "data": {
      "text/plain": [
       "\"\\n\\nk_vals = dist.combineByKey(create_klist, merge_klist, merge_combiners)\\nguess_class = k_vals.map(guess_class)\\n\\n\\n\\ndef correct(dt):\\n    if dt[0]==dt[1]:\\n        return 1\\n    else:\\n        return 0\\n    \\ncorrect = guess_class.map(correct)\\naccuracy = correct.mean()\\nend = time.time()\\nprint('The time to run is:', end - start)\\nprint(accuracy)\\n\""
      ]
     },
     "execution_count": 9,
     "metadata": {},
     "output_type": "execute_result"
    }
   ],
   "source": [
    "from pyspark import SparkContext, SparkConf\n",
    "import numpy as np\n",
    "import time\n",
    "\n",
    "\n",
    "\n",
    "\n",
    "def distances (dt):\n",
    "    idts = dt[0][1]\n",
    "    test = dt[0][0].split(\",\")\n",
    "    ts = list(map(float, test[0:11]))\n",
    "    clts = int(test[11])\n",
    "    idtr = dt[1][1]\n",
    "    train = dt[1][0].split(\",\")\n",
    "    tr = list(map(float, train[0:11]))\n",
    "    cltr = int(train[11])\n",
    "    \n",
    "    dist = sum((p-q)**2 for p, q in zip(ts, tr)) ** .5\n",
    "    \n",
    "    if idts == idtr:\n",
    "        dist = float(\"inf\")\n",
    "    \n",
    "    return (idts,(dist,cltr,clts))\n",
    "    \n",
    "def create_klist(value):\n",
    "    x = [(float('inf'),0)]*k.value\n",
    "    x[0] = value\n",
    "    return x\n",
    "\n",
    "def merge_klist(x, value):\n",
    "    for i in range(len(x)):\n",
    "        if value[0]<x[i][0]:\n",
    "            x.insert(i,value)\n",
    "            x.pop()\n",
    "            break\n",
    "    return x\n",
    "\n",
    "def merge_combiners(x,y):\n",
    "    l = 0\n",
    "    for i in range(len(x)):\n",
    "        if y[l][0]<x[i][0]:\n",
    "            x.insert(i,y[l])\n",
    "            x.pop()\n",
    "            l+=1\n",
    "    return x\n",
    "\n",
    "def guess_class(dt):\n",
    "    rclass = dt[1][0][2]\n",
    "    freq = 0\n",
    "    predict = 0\n",
    "    for i in range(len(dt[1])):\n",
    "        tfreq = 1\n",
    "        tpredict = dt[1][i][1]\n",
    "        for j in range(i+1,len(dt[1])):\n",
    "            if tpredict == dt[1][j][1]:\n",
    "                tfreq +=1\n",
    "        if tfreq > freq:\n",
    "            predict = tpredict\n",
    "            freq = tfreq\n",
    "            \n",
    "    \n",
    "    return (rclass,predict)\n",
    "\n",
    "start = time.time()\n",
    "sc = SparkContext.getOrCreate()\n",
    "tr = sc.textFile(\"datasets/medium.txt\").zipWithUniqueId()\n",
    "k = sc.broadcast(1)\n",
    "\n",
    "cart = tr.cartesian(tr)\n",
    "dist = cart.map(distances)\n",
    "dist.saveAsTextFile('dist')\n",
    "end = time.time()\n",
    "print('The time to run is:', end - start)\n",
    "'''\n",
    "\n",
    "k_vals = dist.combineByKey(create_klist, merge_klist, merge_combiners)\n",
    "guess_class = k_vals.map(guess_class)\n",
    "\n",
    "\n",
    "\n",
    "def correct(dt):\n",
    "    if dt[0]==dt[1]:\n",
    "        return 1\n",
    "    else:\n",
    "        return 0\n",
    "    \n",
    "correct = guess_class.map(correct)\n",
    "accuracy = correct.mean()\n",
    "end = time.time()\n",
    "print('The time to run is:', end - start)\n",
    "print(accuracy)\n",
    "'''"
   ]
  },
  {
   "cell_type": "code",
   "execution_count": 396,
   "metadata": {},
   "outputs": [
    {
     "name": "stdout",
     "output_type": "stream",
     "text": [
      "The time to run is: 0.9075469970703125\n",
      "0.7916666666666665\n"
     ]
    }
   ],
   "source": [
    "from pyspark import SparkContext, SparkConf\n",
    "import numpy as np\n",
    "import time\n",
    "\n",
    "start = time.time()\n",
    "\n",
    "\n",
    "def distances (dt):\n",
    "    idts = dt[0][1]\n",
    "    test = dt[0][0].split(\",\")\n",
    "    ts = list(map(float, test[0:7]))\n",
    "    clts = int(test[7])\n",
    "    idtr = dt[1][1]\n",
    "    train = dt[1][0].split(\",\")\n",
    "    tr = list(map(float, train[0:7]))\n",
    "    cltr = int(train[7])\n",
    "    \n",
    "    dist = sum((p-q)**2 for p, q in zip(ts, tr)) ** .5\n",
    "    \n",
    "    if idts == idtr:\n",
    "        dist = float(\"inf\")\n",
    "    \n",
    "    return (idts,(dist,cltr,clts))\n",
    "    \n",
    "def create_klist(value):\n",
    "    x = [(float('inf'),0)]*k.value\n",
    "    x[0] = value\n",
    "    return x\n",
    "\n",
    "def merge_klist(x, value):\n",
    "    for i in range(len(x)):\n",
    "        if value[0]<x[i][0]:\n",
    "            for j in range(len(x)-1,i,-1):\n",
    "                x[j]=x[j-1]\n",
    "            x[i]=value\n",
    "            break\n",
    "    return x\n",
    "\n",
    "def merge_combiners(x,y):\n",
    "    l = 0\n",
    "    for i in range(len(x)):\n",
    "        if y[l][0]<x[i][0]:\n",
    "            for j in range(len(x)-1,i,-1):\n",
    "                x[j]=x[j-1]\n",
    "            x[i]=y[l]\n",
    "            l+=1\n",
    "    return x\n",
    "\n",
    "def guess_class(dt):\n",
    "    rclass = dt[1][0][2]\n",
    "    freq = 0\n",
    "    predict = 0\n",
    "    for i in range(len(dt[1])):\n",
    "        tfreq = 1\n",
    "        tpredict = dt[1][i][1]\n",
    "        for j in range(i+1,len(dt[1])):\n",
    "            if tpredict == dt[1][j][1]:\n",
    "                tfreq +=1\n",
    "        if tfreq > freq:\n",
    "            predict = tpredict\n",
    "            freq = tfreq\n",
    "            \n",
    "    \n",
    "    return (rclass,predict)\n",
    "\n",
    "sc = SparkContext.getOrCreate()\n",
    "tr = sc.textFile(\"datasets/small.txt\").zipWithUniqueId()\n",
    "k = sc.broadcast(1)\n",
    "\n",
    "cart = tr.cartesian(tr)\n",
    "dist = cart.map(distances)\n",
    "k_vals = dist.combineByKey(create_klist, merge_klist, merge_combiners)\n",
    "guess_class = k_vals.map(guess_class)\n",
    "\n",
    "\n",
    "\n",
    "def correct(dt):\n",
    "    if dt[0]==dt[1]:\n",
    "        return 1\n",
    "    else:\n",
    "        return 0\n",
    "    \n",
    "correct = guess_class.map(correct)\n",
    "accuracy = correct.mean()\n",
    "end = time.time()\n",
    "print('The time to run is:', end - start)\n",
    "print(accuracy)"
   ]
  },
  {
   "cell_type": "markdown",
   "metadata": {},
   "source": [
    "# Second approach"
   ]
  },
  {
   "cell_type": "code",
   "execution_count": 363,
   "metadata": {},
   "outputs": [],
   "source": [
    "from pyspark import SparkContext, SparkConf\n",
    "import numpy as np\n",
    "import time\n",
    "\n",
    "\n",
    "sc = SparkContext.getOrCreate()\n",
    "ts = sc.textFile(\"datasets/small.txt\").zipWithUniqueId()\\\n",
    "    .map(lambda line: (line[0].split(','), line[1]))\\\n",
    "    .map(lambda line: (list(map(float, line[0])),line[1]))\n",
    "\n",
    "tr = ts.collect()\n",
    "k = sc.broadcast(5)\n"
   ]
  },
  {
   "cell_type": "code",
   "execution_count": 364,
   "metadata": {},
   "outputs": [],
   "source": [
    "def distances (dt):\n",
    "    idts = dt[1]\n",
    "    ts = list(map(float, dt[0][0:7]))\n",
    "    cltr = int(dt[0][7])\n",
    "    \n",
    "    \n",
    "    x = [(float('inf'),0)]*k.value\n",
    "    \n",
    "    for i in tr:\n",
    "        if not idts == i[1]:\n",
    "            dist = sum((p-q)**2 for p, q in zip(i[0][0:7], ts)) ** .5\n",
    "            for j in range(len(x)):\n",
    "                if dist < x[j][0]:\n",
    "                    for z in range(len(x)-1,j,-1):\n",
    "                        x[z]=x[z-1]\n",
    "                    x[j]=(dist,i[0][7])\n",
    "                    break\n",
    "                \n",
    "    return (cltr,x)"
   ]
  },
  {
   "cell_type": "code",
   "execution_count": 365,
   "metadata": {},
   "outputs": [],
   "source": [
    "\n",
    "k_vals = ts.map(distances)\n",
    "k_vals.saveAsTextFile('k_vals')\n"
   ]
  },
  {
   "cell_type": "code",
   "execution_count": 366,
   "metadata": {},
   "outputs": [],
   "source": [
    "def guess_class(dt):\n",
    "    rclass = dt[0]\n",
    "    freq = 0\n",
    "    predict = 0\n",
    "    for i in range(len(dt[1])):\n",
    "        tfreq = 1\n",
    "        tpredict = dt[1][i][1]\n",
    "        for j in range(i+1,len(dt[1])):\n",
    "            if tpredict == dt[1][j][1]:\n",
    "                tfreq +=1\n",
    "        if tfreq > freq:\n",
    "            predict = tpredict\n",
    "            freq = tfreq\n",
    "    return (rclass,predict)"
   ]
  },
  {
   "cell_type": "code",
   "execution_count": 367,
   "metadata": {},
   "outputs": [],
   "source": [
    "guess_class = k_vals.map(guess_class)\n",
    "guess_class.saveAsTextFile('guess_class')"
   ]
  },
  {
   "cell_type": "code",
   "execution_count": 368,
   "metadata": {},
   "outputs": [],
   "source": [
    "def correct(dt):\n",
    "    if dt[0]==dt[1]:\n",
    "        return 1\n",
    "    else:\n",
    "        return 0\n",
    "\n",
    "correct = guess_class.map(correct)\n",
    "accuracy = correct.mean()\n"
   ]
  },
  {
   "cell_type": "code",
   "execution_count": 369,
   "metadata": {},
   "outputs": [
    {
     "data": {
      "text/plain": [
       "274"
      ]
     },
     "execution_count": 369,
     "metadata": {},
     "output_type": "execute_result"
    }
   ],
   "source": [
    "accum = sc.accumulator(0)\n",
    "correct.foreach(lambda x: accum.add(x))\n",
    "accum.value"
   ]
  },
  {
   "cell_type": "code",
   "execution_count": 370,
   "metadata": {},
   "outputs": [
    {
     "data": {
      "text/plain": [
       "0.815476190476191"
      ]
     },
     "execution_count": 370,
     "metadata": {},
     "output_type": "execute_result"
    }
   ],
   "source": [
    "accuracy"
   ]
  },
  {
   "cell_type": "code",
   "execution_count": 392,
   "metadata": {},
   "outputs": [
    {
     "name": "stdout",
     "output_type": "stream",
     "text": [
      "The time to run is: 0.4284708499908447\n"
     ]
    },
    {
     "data": {
      "text/plain": [
       "0.815476190476191"
      ]
     },
     "execution_count": 392,
     "metadata": {},
     "output_type": "execute_result"
    }
   ],
   "source": [
    "from pyspark import SparkContext, SparkConf\n",
    "import numpy as np\n",
    "import time\n",
    "\n",
    "start = time.time()\n",
    "def distances (dt):\n",
    "    idts = dt[1]\n",
    "    ts = list(map(float, dt[0][0:7]))\n",
    "    cltr = int(dt[0][7])\n",
    "    \n",
    "    \n",
    "    x = [(float('inf'),0)]*k.value\n",
    "    \n",
    "    for i in tr:\n",
    "        if not idts == i[1]:\n",
    "            dist = sum((p-q)**2 for p, q in zip(i[0][0:7], ts)) ** .5\n",
    "            for j in range(len(x)):\n",
    "                if dist < x[j][0]:\n",
    "                    for z in range(len(x)-1,j,-1):\n",
    "                        x[z]=x[z-1]\n",
    "                    x[j]=(dist,i[0][7])\n",
    "                    break\n",
    "                \n",
    "    return (cltr,x)\n",
    "\n",
    "\n",
    "def guess_class(dt):\n",
    "    rclass = dt[0]\n",
    "    freq = 0\n",
    "    predict = 0\n",
    "    for i in range(len(dt[1])):\n",
    "        tfreq = 1\n",
    "        tpredict = dt[1][i][1]\n",
    "        for j in range(i+1,len(dt[1])):\n",
    "            if tpredict == dt[1][j][1]:\n",
    "                tfreq +=1\n",
    "        if tfreq > freq:\n",
    "            predict = tpredict\n",
    "            freq = tfreq\n",
    "    return (rclass,predict)\n",
    "\n",
    "def correct(dt):\n",
    "    if dt[0]==dt[1]:\n",
    "        return 1\n",
    "    else:\n",
    "        return 0\n",
    "\n",
    "\n",
    "sc = SparkContext.getOrCreate()\n",
    "ts = sc.textFile(\"datasets/small.txt\").zipWithUniqueId()\\\n",
    "    .map(lambda line: (line[0].split(','), line[1]))\\\n",
    "    .map(lambda line: (list(map(float, line[0])),line[1]))\n",
    "\n",
    "tr = ts.collect()\n",
    "k = sc.broadcast(5)\n",
    "\n",
    "\n",
    "k_vals = ts.map(distances)\n",
    "guess_class = k_vals.map(guess_class)\n",
    "correct = guess_class.map(correct)\n",
    "accuracy = correct.mean()\n",
    "end = time.time()\n",
    "print('The time to run is:', end - start)\n",
    "print('accuracy')"
   ]
  },
  {
   "cell_type": "code",
   "execution_count": 397,
   "metadata": {},
   "outputs": [
    {
     "name": "stdout",
     "output_type": "stream",
     "text": [
      "The time to run is: 80.40959596633911\n",
      "accuracy\n"
     ]
    }
   ],
   "source": [
    "from pyspark import SparkContext, SparkConf\n",
    "import numpy as np\n",
    "import time\n",
    "\n",
    "start = time.time()\n",
    "def distances (dt):\n",
    "    idts = dt[1]\n",
    "    ts = list(map(float, dt[0][0:11]))\n",
    "    cltr = int(dt[0][11])\n",
    "    \n",
    "    \n",
    "    x = [(float('inf'),0)]*k.value\n",
    "    \n",
    "    for i in tr:\n",
    "        if not idts == i[1]:\n",
    "            dist = sum((p-q)**2 for p, q in zip(i[0][0:11], ts)) ** .5\n",
    "            for j in range(len(x)):\n",
    "                if dist < x[j][0]:\n",
    "                    for z in range(len(x)-1,j,-1):\n",
    "                        x[z]=x[z-1]\n",
    "                    x[j]=(dist,i[0][11])\n",
    "                    break\n",
    "                \n",
    "    return (cltr,x)\n",
    "\n",
    "\n",
    "def guess_class(dt):\n",
    "    rclass = dt[0]\n",
    "    freq = 0\n",
    "    predict = 0\n",
    "    for i in range(len(dt[1])):\n",
    "        tfreq = 1\n",
    "        tpredict = dt[1][i][1]\n",
    "        for j in range(i+1,len(dt[1])):\n",
    "            if tpredict == dt[1][j][1]:\n",
    "                tfreq +=1\n",
    "        if tfreq > freq:\n",
    "            predict = tpredict\n",
    "            freq = tfreq\n",
    "    return (rclass,predict)\n",
    "\n",
    "def correct(dt):\n",
    "    if dt[0]==dt[1]:\n",
    "        return 1\n",
    "    else:\n",
    "        return 0\n",
    "\n",
    "\n",
    "sc = SparkContext.getOrCreate()\n",
    "ts = sc.textFile(\"datasets/medium.txt\").zipWithUniqueId()\\\n",
    "    .map(lambda line: (line[0].split(','), line[1]))\\\n",
    "    .map(lambda line: (list(map(float, line[0])),line[1]))\n",
    "\n",
    "tr = ts.collect()\n",
    "k = sc.broadcast(5)\n",
    "\n",
    "\n",
    "k_vals = ts.map(distances)\n",
    "guess_class = k_vals.map(guess_class)\n",
    "correct = guess_class.map(correct)\n",
    "accuracy = correct.mean()\n",
    "end = time.time()\n",
    "print('The time to run is:', end - start)\n",
    "print('accuracy')"
   ]
  },
  {
   "cell_type": "code",
   "execution_count": null,
   "metadata": {},
   "outputs": [],
   "source": []
  }
 ],
 "metadata": {
  "kernelspec": {
   "display_name": "Python 3",
   "language": "python",
   "name": "python3"
  },
  "language_info": {
   "codemirror_mode": {
    "name": "ipython",
    "version": 3
   },
   "file_extension": ".py",
   "mimetype": "text/x-python",
   "name": "python",
   "nbconvert_exporter": "python",
   "pygments_lexer": "ipython3",
   "version": "3.6.9"
  }
 },
 "nbformat": 4,
 "nbformat_minor": 2
}
