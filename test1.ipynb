{
 "cells": [
  {
   "cell_type": "code",
   "execution_count": 658,
   "metadata": {},
   "outputs": [],
   "source": [
    "from pyspark import SparkContext, SparkConf\n",
    "import numpy as np\n",
    "\n",
    "sc = SparkContext.getOrCreate()\n",
    "tr = sc.textFile(\"datasets/small.txt\")\n",
    "ts = sc.textFile(\"datasets/small.txt\")\n",
    "k = sc.broadcast(5)"
   ]
  },
  {
   "cell_type": "code",
   "execution_count": 659,
   "metadata": {},
   "outputs": [],
   "source": [
    "cart = tr.cartesian(ts)"
   ]
  },
  {
   "cell_type": "code",
   "execution_count": 660,
   "metadata": {},
   "outputs": [],
   "source": [
    "def distances (dt):\n",
    "    test = dt[0].split(\",\")\n",
    "    idts = list(map(float, test[0:7]))\n",
    "    clts = int(test[7])\n",
    "    train = dt[1].split(\",\")\n",
    "    idtr = list(map(float, train[0:7]))\n",
    "    cltr = int(train[7])\n",
    "    \n",
    "    dist = sum((p-q)**2 for p, q in zip(idts, idtr)) ** .5\n",
    "    \n",
    "    if idts == idtr:\n",
    "        dist = float(\"inf\")\n",
    "    \n",
    "    return (dt[0],(dist,cltr,clts))\n",
    "    "
   ]
  },
  {
   "cell_type": "code",
   "execution_count": 661,
   "metadata": {
    "scrolled": true
   },
   "outputs": [],
   "source": [
    "dist = cart.map(distances)\n",
    "dist.saveAsTextFile('dist')"
   ]
  },
  {
   "cell_type": "code",
   "execution_count": 662,
   "metadata": {},
   "outputs": [],
   "source": [
    "def create_klist(value):\n",
    "    x = [(float('inf'),0)]*k.value\n",
    "    x[0] = value\n",
    "    return x\n",
    "\n",
    "def merge_klist(x, value):\n",
    "    for i in range(len(x)):\n",
    "        if value[0]<x[i][0]:\n",
    "            for j in range(len(x)-1,i,-1):\n",
    "                x[j]=x[j-1]\n",
    "            x[i]=value\n",
    "            break\n",
    "    return x\n",
    "\n",
    "def merge_combiners(x,y):\n",
    "    l = 0\n",
    "    for i in range(len(x)):\n",
    "        if y[l][0]<x[i][0]:\n",
    "            for j in range(len(x)-1,i,-1):\n",
    "                x[j]=x[j-1]\n",
    "            x[i]=y[l]\n",
    "            l+=1\n",
    "    return x\n"
   ]
  },
  {
   "cell_type": "code",
   "execution_count": 663,
   "metadata": {},
   "outputs": [],
   "source": [
    "def create_klist(value):\n",
    "    x = [(float('inf'),0)]*k.value\n",
    "    x[0] = value\n",
    "    return x\n",
    "\n",
    "def merge_klist(x, value):\n",
    "    for i in range(len(x)):\n",
    "        if value[0]<x[i][0]:\n",
    "            x.insert(i,value)\n",
    "            x.pop()\n",
    "            break\n",
    "    return x\n",
    "\n",
    "def merge_combiners(x,y):\n",
    "    l = 0\n",
    "    for i in range(len(x)):\n",
    "        if y[l][0]<x[i][0]:\n",
    "            x.insert(i,y[l])\n",
    "            x.pop()\n",
    "            l+=1\n",
    "    return x"
   ]
  },
  {
   "cell_type": "code",
   "execution_count": 664,
   "metadata": {},
   "outputs": [],
   "source": [
    "k_vals = dist.combineByKey(create_klist, merge_klist, merge_combiners)\n",
    "k_vals.saveAsTextFile('k_vals')"
   ]
  },
  {
   "cell_type": "code",
   "execution_count": 665,
   "metadata": {},
   "outputs": [],
   "source": [
    "def guess_class(dt):\n",
    "    rclass = dt[1][1][2]\n",
    "    freq = 0\n",
    "    predict = 0\n",
    "    for i in range(len(dt[1])):\n",
    "        tfreq = 1\n",
    "        tpredict = dt[1][i][1]\n",
    "        for j in range(i+1,len(dt[1])):\n",
    "            if tpredict == dt[1][j][1]:\n",
    "                tfreq +=1\n",
    "        if tfreq > freq:\n",
    "            predict = tpredict\n",
    "            freq = tfreq\n",
    "            \n",
    "    \n",
    "    return (rclass,predict)"
   ]
  },
  {
   "cell_type": "code",
   "execution_count": 666,
   "metadata": {},
   "outputs": [],
   "source": [
    "guess_class = k_vals.map(guess_class)\n",
    "guess_class.saveAsTextFile('guess_class')"
   ]
  },
  {
   "cell_type": "code",
   "execution_count": 667,
   "metadata": {},
   "outputs": [],
   "source": [
    "def correct(dt):\n",
    "    if dt[0]==dt[1]:\n",
    "        return 1\n",
    "    else:\n",
    "        return 0"
   ]
  },
  {
   "cell_type": "code",
   "execution_count": 668,
   "metadata": {},
   "outputs": [],
   "source": [
    "correct = guess_class.map(correct)\n",
    "accuracy = correct.mean()\n"
   ]
  },
  {
   "cell_type": "code",
   "execution_count": 669,
   "metadata": {},
   "outputs": [
    {
     "data": {
      "text/plain": [
       "274"
      ]
     },
     "execution_count": 669,
     "metadata": {},
     "output_type": "execute_result"
    }
   ],
   "source": [
    "accum = sc.accumulator(0)\n",
    "correct.foreach(lambda x: accum.add(x))\n",
    "accum.value"
   ]
  },
  {
   "cell_type": "code",
   "execution_count": 670,
   "metadata": {},
   "outputs": [
    {
     "data": {
      "text/plain": [
       "0.8154761904761905"
      ]
     },
     "execution_count": 670,
     "metadata": {},
     "output_type": "execute_result"
    }
   ],
   "source": [
    "accuracy"
   ]
  },
  {
   "cell_type": "code",
   "execution_count": null,
   "metadata": {},
   "outputs": [],
   "source": []
  },
  {
   "cell_type": "code",
   "execution_count": null,
   "metadata": {},
   "outputs": [],
   "source": []
  },
  {
   "cell_type": "code",
   "execution_count": null,
   "metadata": {},
   "outputs": [],
   "source": []
  },
  {
   "cell_type": "code",
   "execution_count": 18,
   "metadata": {},
   "outputs": [
    {
     "data": {
      "text/plain": [
       "[(1, 'a'), (2, 'aa'), (3, 'aaa')]"
      ]
     },
     "execution_count": 18,
     "metadata": {},
     "output_type": "execute_result"
    }
   ],
   "source": [
    "sorted(sc.sequenceFile(\"out\").collect())"
   ]
  },
  {
   "cell_type": "code",
   "execution_count": 7,
   "metadata": {},
   "outputs": [
    {
     "name": "stdout",
     "output_type": "stream",
     "text": [
      "Counter value:  0\n"
     ]
    }
   ],
   "source": [
    "data = [1, 2, 3, 4, 5]\n",
    "counter = 0\n",
    "rdd = sc.parallelize(data)\n",
    "\n",
    "# Wrong: Don't do this!!\n",
    "def increment_counter(x):\n",
    "    global counter\n",
    "    counter += x\n",
    "rdd.foreach(increment_counter)\n",
    "\n",
    "print(\"Counter value: \", counter)"
   ]
  },
  {
   "cell_type": "code",
   "execution_count": 129,
   "metadata": {},
   "outputs": [],
   "source": []
  },
  {
   "cell_type": "code",
   "execution_count": 130,
   "metadata": {},
   "outputs": [],
   "source": []
  },
  {
   "cell_type": "code",
   "execution_count": 131,
   "metadata": {},
   "outputs": [
    {
     "data": {
      "text/plain": [
       "array([1, 3, 9])"
      ]
     },
     "execution_count": 131,
     "metadata": {},
     "output_type": "execute_result"
    }
   ],
   "source": []
  },
  {
   "cell_type": "code",
   "execution_count": 75,
   "metadata": {},
   "outputs": [],
   "source": [
    "l = [(float('inf'),0,0)]*10"
   ]
  },
  {
   "cell_type": "code",
   "execution_count": 79,
   "metadata": {},
   "outputs": [
    {
     "name": "stdout",
     "output_type": "stream",
     "text": [
      "[(7, 0, 0), (7, 0, 0), (7, 0, 0), (7, 0, 0), (7, 0, 0), (7, 0, 0), (7, 0, 0), (7, 0, 0), (7, 0, 0), (7, 0, 0)]\n"
     ]
    }
   ],
   "source": [
    "for i in range(len(l)):\n",
    "    if 4<l[i][0]:\n",
    "        l[i]=(7,0,0)\n",
    "\n",
    "print(l)"
   ]
  },
  {
   "cell_type": "code",
   "execution_count": 72,
   "metadata": {},
   "outputs": [],
   "source": [
    "l[0]= 2"
   ]
  },
  {
   "cell_type": "code",
   "execution_count": 262,
   "metadata": {},
   "outputs": [],
   "source": [
    "from pyspark import SparkContext, SparkConf\n",
    "import numpy as np\n",
    "\n",
    "sc = SparkContext.getOrCreate()\n",
    "tr = sc.textFile(\"datasets/small.txt\")\n",
    "ts = sc.textFile(\"datasets/small.txt\")\n",
    "k = sc.broadcast(5)"
   ]
  },
  {
   "cell_type": "code",
   "execution_count": 263,
   "metadata": {},
   "outputs": [],
   "source": [
    "cart = tr.cartesian(ts)\n",
    "\n",
    "def distances (dt):\n",
    "    test = dt[0].split(\",\")\n",
    "    idts = list(map(float, test[0:7]))\n",
    "    clts = int(test[7])\n",
    "    train = dt[1].split(\",\")\n",
    "    idtr = list(map(float, train[0:7]))\n",
    "    cltr = int(train[7])\n",
    "    \n",
    "    dist = sum((p-q)**2 for p, q in zip(idts, idtr)) ** .5\n",
    "    \n",
    "    if idts == idtr:\n",
    "        dist = float(\"inf\")\n",
    "    \n",
    "    return (dt[0],(dist,cltr,clts))\n",
    "    \n",
    "dist = cart.map(distances)\n",
    "dist.saveAsTextFile('dist')\n",
    "\n",
    "    "
   ]
  },
  {
   "cell_type": "code",
   "execution_count": 264,
   "metadata": {},
   "outputs": [],
   "source": [
    "def create_klist(value):\n",
    "    x = [(float('inf'),0)]*k.value\n",
    "    x[0] = value\n",
    "    return x\n",
    "\n",
    "def merge_klist(x, value):\n",
    "    for i in range(len(x)):\n",
    "        if value[0]<x[i][0]:\n",
    "            x[i]=value\n",
    "            break\n",
    "    return x\n",
    "\n",
    "def merge_combiners(x,y):\n",
    "    return x"
   ]
  },
  {
   "cell_type": "code",
   "execution_count": 265,
   "metadata": {},
   "outputs": [],
   "source": [
    "k_vals = dist.combineByKey(create_klist, merge_klist, merge_combiners)\n",
    "k_vals.saveAsTextFile('k_vals')"
   ]
  },
  {
   "cell_type": "code",
   "execution_count": 69,
   "metadata": {},
   "outputs": [
    {
     "data": {
      "text/plain": [
       "PythonRDD[21] at RDD at PythonRDD.scala:53"
      ]
     },
     "execution_count": 69,
     "metadata": {},
     "output_type": "execute_result"
    }
   ],
   "source": [
    "sumCount"
   ]
  },
  {
   "cell_type": "code",
   "execution_count": 523,
   "metadata": {},
   "outputs": [
    {
     "name": "stdout",
     "output_type": "stream",
     "text": [
      "5\n",
      "4\n",
      "3\n",
      "2\n"
     ]
    }
   ],
   "source": [
    "t=\n",
    "for a in range(5,1,-1):\n",
    "    print (a)\n"
   ]
  },
  {
   "cell_type": "code",
   "execution_count": 589,
   "metadata": {},
   "outputs": [],
   "source": [
    "x = [1,2,3,4,5,6,7,8,9,10]\n",
    "i = 3\n",
    "for j in range(len(x)-1,i,-1):\n",
    "    x[j]=x[j-1]\n",
    "x[i]=18"
   ]
  },
  {
   "cell_type": "code",
   "execution_count": 572,
   "metadata": {},
   "outputs": [],
   "source": [
    "\n",
    "data = sc.parallelize( [(0, 2.), (0, 4.), (1, 0.), (1, 10.), (1, 20.)] )\n",
    "\n",
    "sumCount = data.combineByKey(lambda value: (value, 1),\n",
    "                             lambda x, value: (x[0] + value, x[1] + 1),\n",
    "                             lambda x, y: (x[0] + y[0], x[1] + y[1]))"
   ]
  },
  {
   "cell_type": "code",
   "execution_count": 573,
   "metadata": {},
   "outputs": [],
   "source": [
    "sumCount.saveAsTextFile('sumCount')"
   ]
  },
  {
   "cell_type": "code",
   "execution_count": 574,
   "metadata": {},
   "outputs": [],
   "source": [
    "x = [(float('inf'),0)]*8"
   ]
  },
  {
   "cell_type": "code",
   "execution_count": 576,
   "metadata": {},
   "outputs": [
    {
     "data": {
      "text/plain": [
       "2"
      ]
     },
     "execution_count": 576,
     "metadata": {},
     "output_type": "execute_result"
    }
   ],
   "source": [
    "len(x[0])"
   ]
  },
  {
   "cell_type": "code",
   "execution_count": 590,
   "metadata": {},
   "outputs": [
    {
     "data": {
      "text/plain": [
       "[1, 2, 3, 18, 4, 5, 6, 7, 8, 9]"
      ]
     },
     "execution_count": 590,
     "metadata": {},
     "output_type": "execute_result"
    }
   ],
   "source": [
    "x"
   ]
  },
  {
   "cell_type": "code",
   "execution_count": 591,
   "metadata": {},
   "outputs": [],
   "source": [
    "x.insert(3,186)"
   ]
  },
  {
   "cell_type": "code",
   "execution_count": 592,
   "metadata": {},
   "outputs": [
    {
     "data": {
      "text/plain": [
       "[1, 2, 3, 186, 18, 4, 5, 6, 7, 8, 9]"
      ]
     },
     "execution_count": 592,
     "metadata": {},
     "output_type": "execute_result"
    }
   ],
   "source": [
    "x"
   ]
  },
  {
   "cell_type": "code",
   "execution_count": 593,
   "metadata": {},
   "outputs": [
    {
     "data": {
      "text/plain": [
       "9"
      ]
     },
     "execution_count": 593,
     "metadata": {},
     "output_type": "execute_result"
    }
   ],
   "source": [
    "x.pop()"
   ]
  },
  {
   "cell_type": "code",
   "execution_count": 594,
   "metadata": {},
   "outputs": [
    {
     "data": {
      "text/plain": [
       "[1, 2, 3, 186, 18, 4, 5, 6, 7, 8]"
      ]
     },
     "execution_count": 594,
     "metadata": {},
     "output_type": "execute_result"
    }
   ],
   "source": [
    "x"
   ]
  },
  {
   "cell_type": "code",
   "execution_count": null,
   "metadata": {},
   "outputs": [],
   "source": []
  }
 ],
 "metadata": {
  "kernelspec": {
   "display_name": "Python 3",
   "language": "python",
   "name": "python3"
  },
  "language_info": {
   "codemirror_mode": {
    "name": "ipython",
    "version": 3
   },
   "file_extension": ".py",
   "mimetype": "text/x-python",
   "name": "python",
   "nbconvert_exporter": "python",
   "pygments_lexer": "ipython3",
   "version": "3.6.9"
  }
 },
 "nbformat": 4,
 "nbformat_minor": 2
}
